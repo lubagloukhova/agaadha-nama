{
 "cells": [
  {
   "cell_type": "markdown",
   "metadata": {},
   "source": [
    "# Housekeeping"
   ]
  },
  {
   "cell_type": "code",
   "execution_count": 522,
   "metadata": {},
   "outputs": [],
   "source": [
    "import os\n",
    "import glob\n",
    "import sys\n",
    "\n",
    "import numpy as np\n",
    "import pandas as pd\n",
    "import os.path as path\n",
    "from scipy import misc, stats\n",
    "from skimage.transform import resize\n",
    "import matplotlib.pyplot as plt\n",
    "import random\n",
    "import cv2\n",
    "\n",
    "import pathlib\n",
    "\n",
    "from keras.models import Sequential, save_model\n",
    "from keras.layers import Activation, Dropout, Flatten, Dense, Conv2D, MaxPooling2D\n",
    "from keras.layers import Dense, Dropout, Flatten, Conv2D, MaxPool2D\n",
    "from keras.callbacks import EarlyStopping, TensorBoard\n",
    "from keras.optimizers import RMSprop\n",
    "\n",
    "from sklearn.metrics import accuracy_score, f1_score\n",
    "from sklearn.preprocessing import LabelEncoder\n",
    "\n",
    "from datetime import datetime\n",
    "from keras.utils import to_categorical # For keras > 2.0\n",
    "from keras.callbacks import ReduceLROnPlateau\n",
    "\n",
    "\n",
    "%matplotlib inline"
   ]
  },
  {
   "cell_type": "code",
   "execution_count": 436,
   "metadata": {},
   "outputs": [],
   "source": [
    "IMG_SIZE = (100,100)\n",
    "N_SAMPLE = 600 # how many to sample from each class (classes w/ <N will be dropped)\n",
    "N_CLASSES = 5 # how many asanas to classify\n",
    "TRAIN_TEST_SPLIT = 0.8"
   ]
  },
  {
   "cell_type": "markdown",
   "metadata": {},
   "source": [
    "# DATA PREPROCESSING"
   ]
  },
  {
   "cell_type": "code",
   "execution_count": 437,
   "metadata": {},
   "outputs": [
    {
     "name": "stdout",
     "output_type": "stream",
     "text": [
      "71379\n"
     ]
    },
    {
     "data": {
      "text/plain": [
       "['dataset/google/Setu+Bandha+Sarvangasana/Scrapper_297.jpg',\n",
       " 'dataset/google/Setu+Bandha+Sarvangasana/Scrapper_241.jpg',\n",
       " 'dataset/google/Setu+Bandha+Sarvangasana/Scrapper_295.jpg',\n",
       " 'dataset/google/Setu+Bandha+Sarvangasana/Scrapper_83.jpg',\n",
       " 'dataset/google/Setu+Bandha+Sarvangasana/Scrapper_337.jpg',\n",
       " 'dataset/google/Setu+Bandha+Sarvangasana/Scrapper_111.jpg',\n",
       " 'dataset/google/Setu+Bandha+Sarvangasana/Scrapper_312.jpg',\n",
       " 'dataset/google/Setu+Bandha+Sarvangasana/Scrapper_345.jpg',\n",
       " 'dataset/google/Setu+Bandha+Sarvangasana/Scrapper_19.jpg',\n",
       " 'dataset/google/Setu+Bandha+Sarvangasana/Scrapper_167.jpg']"
      ]
     },
     "execution_count": 437,
     "metadata": {},
     "output_type": "execute_result"
    }
   ],
   "source": [
    "# list all image files\n",
    "filepaths = glob.glob('dataset/google/*/*')\n",
    "filepaths = [x for x in filepaths if os.path.splitext(x)[1]!='.json']\n",
    "print(len(filepaths))\n",
    "filepaths[0:10]"
   ]
  },
  {
   "cell_type": "code",
   "execution_count": 438,
   "metadata": {},
   "outputs": [
    {
     "name": "stdout",
     "output_type": "stream",
     "text": [
      "(71379, 2)\n"
     ]
    },
    {
     "data": {
      "text/html": [
       "<div>\n",
       "<style>\n",
       "    .dataframe thead tr:only-child th {\n",
       "        text-align: right;\n",
       "    }\n",
       "\n",
       "    .dataframe thead th {\n",
       "        text-align: left;\n",
       "    }\n",
       "\n",
       "    .dataframe tbody tr th {\n",
       "        vertical-align: top;\n",
       "    }\n",
       "</style>\n",
       "<table border=\"1\" class=\"dataframe\">\n",
       "  <thead>\n",
       "    <tr style=\"text-align: right;\">\n",
       "      <th></th>\n",
       "      <th>label</th>\n",
       "      <th>path</th>\n",
       "    </tr>\n",
       "  </thead>\n",
       "  <tbody>\n",
       "    <tr>\n",
       "      <th>0</th>\n",
       "      <td>Setu+Bandha+Sarvangasana</td>\n",
       "      <td>dataset/google/Setu+Bandha+Sarvangasana/Scrapp...</td>\n",
       "    </tr>\n",
       "    <tr>\n",
       "      <th>1</th>\n",
       "      <td>Setu+Bandha+Sarvangasana</td>\n",
       "      <td>dataset/google/Setu+Bandha+Sarvangasana/Scrapp...</td>\n",
       "    </tr>\n",
       "    <tr>\n",
       "      <th>2</th>\n",
       "      <td>Setu+Bandha+Sarvangasana</td>\n",
       "      <td>dataset/google/Setu+Bandha+Sarvangasana/Scrapp...</td>\n",
       "    </tr>\n",
       "    <tr>\n",
       "      <th>3</th>\n",
       "      <td>Setu+Bandha+Sarvangasana</td>\n",
       "      <td>dataset/google/Setu+Bandha+Sarvangasana/Scrapp...</td>\n",
       "    </tr>\n",
       "    <tr>\n",
       "      <th>4</th>\n",
       "      <td>Setu+Bandha+Sarvangasana</td>\n",
       "      <td>dataset/google/Setu+Bandha+Sarvangasana/Scrapp...</td>\n",
       "    </tr>\n",
       "  </tbody>\n",
       "</table>\n",
       "</div>"
      ],
      "text/plain": [
       "                      label                                               path\n",
       "0  Setu+Bandha+Sarvangasana  dataset/google/Setu+Bandha+Sarvangasana/Scrapp...\n",
       "1  Setu+Bandha+Sarvangasana  dataset/google/Setu+Bandha+Sarvangasana/Scrapp...\n",
       "2  Setu+Bandha+Sarvangasana  dataset/google/Setu+Bandha+Sarvangasana/Scrapp...\n",
       "3  Setu+Bandha+Sarvangasana  dataset/google/Setu+Bandha+Sarvangasana/Scrapp...\n",
       "4  Setu+Bandha+Sarvangasana  dataset/google/Setu+Bandha+Sarvangasana/Scrapp..."
      ]
     },
     "execution_count": 438,
     "metadata": {},
     "output_type": "execute_result"
    }
   ],
   "source": [
    "# create dataframe of filenames\n",
    "filepaths_df = pd.DataFrame({'path': filepaths,\\\n",
    "                            'label': [x.split('/')[2] for x in filepaths]})\n",
    "\n",
    "print(filepaths_df.shape)\n",
    "filepaths_df.head()"
   ]
  },
  {
   "cell_type": "code",
   "execution_count": 503,
   "metadata": {},
   "outputs": [],
   "source": [
    "# drop those classes with <N_SAMPLE labels\n",
    "# pick N_CLASSES of those remaining \n",
    "\n",
    "cnt = filepaths_df.groupby('label', as_index=False)['path'].count()\n",
    "lbls = cnt[cnt.path>=N_SAMPLE].label.tolist() # pick only those w/ cnt>N_SAMPLE\n",
    "lbls = random.sample(lbls,N_CLASSES) # pick randomly N_CLASSES\n",
    "mask = filepaths_df['label'].isin(lbls)\n",
    "filepaths_df = filepaths_df[mask]\n",
    "\n",
    "\n",
    "# print filepaths_df.shape\n",
    "# filepaths_df.head()"
   ]
  },
  {
   "cell_type": "code",
   "execution_count": 504,
   "metadata": {},
   "outputs": [
    {
     "data": {
      "text/html": [
       "<div>\n",
       "<style>\n",
       "    .dataframe thead tr:only-child th {\n",
       "        text-align: right;\n",
       "    }\n",
       "\n",
       "    .dataframe thead th {\n",
       "        text-align: left;\n",
       "    }\n",
       "\n",
       "    .dataframe tbody tr th {\n",
       "        vertical-align: top;\n",
       "    }\n",
       "</style>\n",
       "<table border=\"1\" class=\"dataframe\">\n",
       "  <thead>\n",
       "    <tr style=\"text-align: right;\">\n",
       "      <th></th>\n",
       "      <th>label</th>\n",
       "      <th>path</th>\n",
       "    </tr>\n",
       "  </thead>\n",
       "  <tbody>\n",
       "    <tr>\n",
       "      <th>0</th>\n",
       "      <td>Dhyana</td>\n",
       "      <td>673</td>\n",
       "    </tr>\n",
       "    <tr>\n",
       "      <th>1</th>\n",
       "      <td>Savasana</td>\n",
       "      <td>688</td>\n",
       "    </tr>\n",
       "    <tr>\n",
       "      <th>2</th>\n",
       "      <td>Supta+Balasana</td>\n",
       "      <td>614</td>\n",
       "    </tr>\n",
       "    <tr>\n",
       "      <th>3</th>\n",
       "      <td>Svara+Yoga+Pranayama</td>\n",
       "      <td>704</td>\n",
       "    </tr>\n",
       "    <tr>\n",
       "      <th>4</th>\n",
       "      <td>Ustrasana</td>\n",
       "      <td>606</td>\n",
       "    </tr>\n",
       "  </tbody>\n",
       "</table>\n",
       "</div>"
      ],
      "text/plain": [
       "                  label  path\n",
       "0                Dhyana   673\n",
       "1              Savasana   688\n",
       "2        Supta+Balasana   614\n",
       "3  Svara+Yoga+Pranayama   704\n",
       "4             Ustrasana   606"
      ]
     },
     "execution_count": 504,
     "metadata": {},
     "output_type": "execute_result"
    }
   ],
   "source": [
    "cnt#[cnt.path==cnt.path.min()]"
   ]
  },
  {
   "cell_type": "code",
   "execution_count": 440,
   "metadata": {},
   "outputs": [
    {
     "name": "stdout",
     "output_type": "stream",
     "text": [
      "(3000, 2)\n"
     ]
    },
    {
     "data": {
      "text/html": [
       "<div>\n",
       "<style>\n",
       "    .dataframe thead tr:only-child th {\n",
       "        text-align: right;\n",
       "    }\n",
       "\n",
       "    .dataframe thead th {\n",
       "        text-align: left;\n",
       "    }\n",
       "\n",
       "    .dataframe tbody tr th {\n",
       "        vertical-align: top;\n",
       "    }\n",
       "</style>\n",
       "<table border=\"1\" class=\"dataframe\">\n",
       "  <thead>\n",
       "    <tr style=\"text-align: right;\">\n",
       "      <th></th>\n",
       "      <th>label</th>\n",
       "      <th>path</th>\n",
       "    </tr>\n",
       "  </thead>\n",
       "  <tbody>\n",
       "    <tr>\n",
       "      <th>0</th>\n",
       "      <td>Dhyana</td>\n",
       "      <td>dataset/google/Dhyana/Scrapper_626.jpg</td>\n",
       "    </tr>\n",
       "    <tr>\n",
       "      <th>1</th>\n",
       "      <td>Dhyana</td>\n",
       "      <td>dataset/google/Dhyana/Scrapper_256.jpg</td>\n",
       "    </tr>\n",
       "    <tr>\n",
       "      <th>2</th>\n",
       "      <td>Dhyana</td>\n",
       "      <td>dataset/google/Dhyana/Scrapper_624.jpg</td>\n",
       "    </tr>\n",
       "    <tr>\n",
       "      <th>3</th>\n",
       "      <td>Dhyana</td>\n",
       "      <td>dataset/google/Dhyana/Scrapper_653.jpg</td>\n",
       "    </tr>\n",
       "    <tr>\n",
       "      <th>4</th>\n",
       "      <td>Dhyana</td>\n",
       "      <td>dataset/google/Dhyana/Scrapper_5.jpg</td>\n",
       "    </tr>\n",
       "  </tbody>\n",
       "</table>\n",
       "</div>"
      ],
      "text/plain": [
       "    label                                    path\n",
       "0  Dhyana  dataset/google/Dhyana/Scrapper_626.jpg\n",
       "1  Dhyana  dataset/google/Dhyana/Scrapper_256.jpg\n",
       "2  Dhyana  dataset/google/Dhyana/Scrapper_624.jpg\n",
       "3  Dhyana  dataset/google/Dhyana/Scrapper_653.jpg\n",
       "4  Dhyana    dataset/google/Dhyana/Scrapper_5.jpg"
      ]
     },
     "execution_count": 440,
     "metadata": {},
     "output_type": "execute_result"
    }
   ],
   "source": [
    "# sample N_SAMPLE per group\n",
    "filepaths_sample_df = filepaths_df.groupby('label').apply(lambda x: \\\n",
    "                                        x.sample(N_SAMPLE)).reset_index(drop=True)\n",
    "print(filepaths_sample_df.shape)\n",
    "filepaths_sample_df.head()"
   ]
  },
  {
   "cell_type": "code",
   "execution_count": 441,
   "metadata": {},
   "outputs": [
    {
     "name": "stdout",
     "output_type": "stream",
     "text": [
      "Failed to read in: dataset/google/Dhyana/Scrapper_402.jpg, Dropping from dataframe\n",
      "Failed to read in: dataset/google/Dhyana/Scrapper_619.jpg, Dropping from dataframe\n",
      "Failed to read in: dataset/google/Dhyana/Scrapper_110.jpg, Dropping from dataframe\n",
      "Failed to read in: dataset/google/Dhyana/Scrapper_515.jpg, Dropping from dataframe\n",
      "Failed to read in: dataset/google/Dhyana/Scrapper_280.jpg, Dropping from dataframe\n",
      "Failed to read in: dataset/google/Dhyana/Scrapper_124.jpg, Dropping from dataframe\n",
      "Failed to read in: dataset/google/Dhyana/Scrapper_603.jpg, Dropping from dataframe\n",
      "Failed to read in: dataset/google/Dhyana/Scrapper_50.jpg, Dropping from dataframe\n",
      "Failed to read in: dataset/google/Dhyana/Scrapper_632.jpg, Dropping from dataframe\n",
      "Failed to read in: dataset/google/Dhyana/Scrapper_580.jpg, Dropping from dataframe\n",
      "Failed to read in: dataset/google/Dhyana/Scrapper_251.jpg, Dropping from dataframe\n",
      "Failed to read in: dataset/google/Dhyana/Scrapper_170.jpg, Dropping from dataframe\n",
      "Failed to read in: dataset/google/Supta+Balasana/Scrapper_372.jpg, Dropping from dataframe\n",
      "Failed to read in: dataset/google/Svara+Yoga+Pranayama/Scrapper_282.jpg, Dropping from dataframe\n",
      "Failed to read in: dataset/google/Svara+Yoga+Pranayama/Scrapper_669.jpg, Dropping from dataframe\n",
      "Failed to read in: dataset/google/Svara+Yoga+Pranayama/Scrapper_434.jpg, Dropping from dataframe\n",
      "Failed to read in: dataset/google/Svara+Yoga+Pranayama/Scrapper_413.jpg, Dropping from dataframe\n",
      "Failed to read in: dataset/google/Svara+Yoga+Pranayama/Scrapper_198.jpg, Dropping from dataframe\n",
      "Failed to read in: dataset/google/Svara+Yoga+Pranayama/Scrapper_436.jpg, Dropping from dataframe\n",
      "Failed to read in: dataset/google/Svara+Yoga+Pranayama/Scrapper_402.jpg, Dropping from dataframe\n",
      "Failed to read in: dataset/google/Svara+Yoga+Pranayama/Scrapper_117.jpg, Dropping from dataframe\n",
      "Failed to read in: dataset/google/Svara+Yoga+Pranayama/Scrapper_373.jpg, Dropping from dataframe\n",
      "Failed to read in: dataset/google/Svara+Yoga+Pranayama/Scrapper_425.jpg, Dropping from dataframe\n",
      "Failed to read in: dataset/google/Svara+Yoga+Pranayama/Scrapper_420.jpg, Dropping from dataframe\n",
      "Failed to read in: dataset/google/Ustrasana/Scrapper_414.jpg, Dropping from dataframe\n",
      "Failed to read in: dataset/google/Ustrasana/Scrapper_594.jpg, Dropping from dataframe\n",
      "\n",
      "Number of images loaded: 2974\n",
      "Number of images in df: 2974\n"
     ]
    }
   ],
   "source": [
    "# Load the images, drop failed loads from df\n",
    "\n",
    "images=[]\n",
    "for i in range(len(filepaths_sample_df.path)):\n",
    "    path = filepaths_sample_df.path[i]\n",
    "    try:\n",
    "        images.append(misc.imread(path))\n",
    "    except:\n",
    "        print \"Failed to read in: %s, Dropping from dataframe\" % path\n",
    "        filepaths_sample_df = filepaths_sample_df.drop(i)\n",
    "print\n",
    "print(\"Number of images loaded: %d\" %len(images))\n",
    "print(\"Number of images in df: %d\" %filepaths_sample_df.shape[0])"
   ]
  },
  {
   "cell_type": "code",
   "execution_count": 442,
   "metadata": {},
   "outputs": [
    {
     "name": "stdout",
     "output_type": "stream",
     "text": [
      "Showing sample results for scaling/reszing of image 2217, dataset/google/Svara+Yoga+Pranayama/Scrapper_445.jpg\n",
      "\n",
      "..... BEFORE:\n",
      "(283, 180, 3)\n",
      "(283, 180)\n",
      "DescribeResult(nobs=50940, minmax=(0, 255), mean=229.476423243031, variance=1501.5965897311469, skewness=-3.0836850610053985, kurtosis=10.807348496126243)\n",
      "\n",
      "Processed 0 images...\n",
      "Processed 250 images...\n",
      "Processed 500 images...\n",
      "Processed 750 images...\n",
      "Processed 1000 images...\n",
      "Processed 1250 images...\n",
      "Processed 1500 images...\n",
      "Processed 1750 images...\n",
      "Processed 2000 images...\n",
      "Processed 2250 images...\n",
      "Processed 2500 images...\n",
      "Processed 2750 images...\n",
      "\n",
      "..... AFTER:\n",
      "(100, 100, 3)\n",
      "(100, 100)\n",
      "DescribeResult(nobs=10000, minmax=(0.003921569, 1.0), mean=0.8987503, variance=0.022363525, skewness=-3.04746413230896, kurtosis=10.699436528348434)\n"
     ]
    }
   ],
   "source": [
    "# (1) Scale image arrays s.t range is between 0 and 1 instea dof 0 and 255\n",
    "# (2) Resize to be of dim IMG_SIZE (width,height)\n",
    "# When the normType is NORM_MINMAX, cv::normalize normalizes _src in such a way that \n",
    "#   the min value of dst is alpha and max value of dst is beta. cv::normalize does its magic \n",
    "#   using only scales and shifts (i.e. adding constants and multiplying by constants).\n",
    "# (3) Drop fourth dimmension for PNG images\n",
    "# (4) create 3rd dim for greay scale imges\n",
    "i=random.randint(0, len(images))\n",
    "print(\"Showing sample results for scaling/reszing of image %d, %s\" % \\\n",
    "      (i,filepaths_sample_df.path[i]))\n",
    "print\n",
    "print \"..... BEFORE:\"\n",
    "print images[i].shape\n",
    "print images[i][:,:,0].shape\n",
    "print stats.describe(images[i][:,:,0].flatten())\n",
    "print\n",
    "\n",
    "images_sc = [None] * len(images)\n",
    "for j in range(len(images)):\n",
    "    if j % 250 == 0:\n",
    "        print \"Processed %d images...\" % j\n",
    "    if images[j].all()==None:\n",
    "        images_sc[j]=None\n",
    "    else:\n",
    "        try:\n",
    "            temp = images[j]\n",
    "            if len(temp.shape) > 2 and temp.shape[2] == 4: # PNG rgb images have 4 channels\n",
    "                temp = cv2.cvtColor(temp, cv2.COLOR_BGRA2BGR)\n",
    "            elif len(temp.shape) > 2 and temp.shape[2] == 2: # PNG grsc images have 2 channels\n",
    "                temp = np.stack((temp[:,:,0],)*3, -1)\n",
    "            elif len(temp.shape) == 2: # grsc images have 1 channel\n",
    "                temp = np.stack((temp,)*3, -1)\n",
    "            temp = cv2.resize(temp.astype('uint8'), dsize=IMG_SIZE)\n",
    "            temp = cv2.normalize(temp, alpha=0, beta=1, norm_type=cv2.NORM_MINMAX, \\\n",
    "                                 dtype=cv2.CV_32F, dst=None)\n",
    "            images_sc[j] = temp\n",
    "        except:\n",
    "            print \"Unexpected error:\", sys.exc_info()[0]\n",
    "\n",
    "print   \n",
    "print \"..... AFTER:\"     \n",
    "print images_sc[i].shape\n",
    "print images_sc[i][:,:,0].shape\n",
    "print stats.describe(images_sc[i][:,:,0].flatten())"
   ]
  },
  {
   "cell_type": "code",
   "execution_count": 443,
   "metadata": {},
   "outputs": [
    {
     "name": "stdout",
     "output_type": "stream",
     "text": [
      "There are 2974 images loaded and 2974 labels\n",
      "\n",
      "... of which 2379 are train images loaded and 2379 train labels\n",
      "\n",
      "... of which 595 train images loaded and 595 train labels\n"
     ]
    }
   ],
   "source": [
    "# Split at the given index\n",
    "n_images = len(images_sc)\n",
    "labels = filepaths_sample_df.label.tolist()\n",
    "\n",
    "# encode class values as integers\n",
    "encoder = LabelEncoder()\n",
    "encoder.fit(labels)\n",
    "encoded_Y = encoder.transform(labels)\n",
    "# convert integers to dummy variables (i.e. one hot encoded)\n",
    "dummy_y = to_categorical(encoded_Y)\n",
    "\n",
    "paths = filepaths_sample_df.path.tolist()\n",
    "print(\"There are %d images loaded and %d labels\" % \\\n",
    "      (n_images,len(labels)))\n",
    "print\n",
    "\n",
    "split_index = int(TRAIN_TEST_SPLIT * n_images)\n",
    "shuffled_indices = np.random.permutation(n_images)\n",
    "train_indices = shuffled_indices[0:split_index]\n",
    "test_indices = shuffled_indices[split_index:]\n",
    "\n",
    "# Split the images and the labels\n",
    "x_train = np.array([images_sc[i] for i in train_indices])\n",
    "y_train = np.array([dummy_y[i] for i in train_indices])\n",
    "paths_train = [paths[i] for i in train_indices]\n",
    "print(\"... of which %d are train images loaded and %d train labels\" % \\\n",
    "      (x_train.shape[0],y_train.shape[0]))\n",
    "print\n",
    "\n",
    "x_test = np.array([images_sc[i] for i in test_indices])\n",
    "y_test = np.array([dummy_y[i] for i in test_indices])\n",
    "paths_test = [paths[i] for i in test_indices]\n",
    "print(\"... of which %d train images loaded and %d train labels\" % \\\n",
    "      (x_test.shape[0],y_test.shape[0]))"
   ]
  },
  {
   "cell_type": "code",
   "execution_count": 497,
   "metadata": {},
   "outputs": [
    {
     "name": "stdout",
     "output_type": "stream",
     "text": [
      "dataset/google/Savasana/Scrapper_156.jpg\n"
     ]
    },
    {
     "data": {
      "text/plain": [
       "<matplotlib.image.AxesImage at 0x7fa243628ad0>"
      ]
     },
     "execution_count": 497,
     "metadata": {},
     "output_type": "execute_result"
    },
    {
     "data": {
      "image/png": "[encoded data removed]",
      "text/plain": [
       "<Figure size 432x288 with 1 Axes>"
      ]
     },
     "metadata": {},
     "output_type": "display_data"
    }
   ],
   "source": [
    "i=random.randint(0, x_train.shape[0])\n",
    "print paths_train[i]\n",
    "plt.imshow(x_train[i])\n"
   ]
  },
  {
   "cell_type": "code",
   "execution_count": 470,
   "metadata": {},
   "outputs": [],
   "source": [
    "def visualize_data(positive_images, negative_images):\n",
    "    # INPUTS\n",
    "    # positive_images - Images where the label = 1 (True)\n",
    "    # negative_images - Images where the label = 0 (False)\n",
    "\n",
    "    figure = plt.figure()\n",
    "    count = 0\n",
    "    for i in range(positive_images.shape[0]):\n",
    "        count += 1\n",
    "        figure.add_subplot(2, positive_images.shape[0], count)\n",
    "        plt.imshow(positive_images[i, :, :])\n",
    "        plt.axis('off')\n",
    "        plt.title(\"1\")\n",
    "\n",
    "        figure.add_subplot(1, negative_images.shape[0], count)\n",
    "        plt.imshow(negative_images[i, :, :])\n",
    "        plt.axis('off')\n",
    "        plt.title(\"0\")\n",
    "    plt.show()"
   ]
  },
  {
   "cell_type": "code",
   "execution_count": 445,
   "metadata": {},
   "outputs": [],
   "source": [
    "# # Number of positive and negative examples to show\n",
    "# N_TO_VISUALIZE = 10\n",
    "\n",
    "# # Select the first N positive examples\n",
    "# positive_example_indices = (y_train == 1)\n",
    "# positive_examples = x_train[positive_example_indices, :, :]\n",
    "# positive_examples = positive_examples[0:N_TO_VISUALIZE, :, :]\n",
    "\n",
    "# # Select the first N negative examples\n",
    "# negative_example_indices = (y_train == 0)\n",
    "# negative_examples = x_train[negative_example_indices, :, :]\n",
    "# negative_examples = negative_examples[0:N_TO_VISUALIZE, :, :]\n",
    "\n",
    "# # Call the visualization function\n",
    "# visualize_data(positive_examples, negative_examples)"
   ]
  },
  {
   "cell_type": "code",
   "execution_count": 446,
   "metadata": {},
   "outputs": [],
   "source": [
    "# ## MODEL CREATION ##\n",
    "# # Imports\n",
    "# # Model Hyperparamaters\n",
    "# N_LAYERS = 4\n",
    "\n",
    "# def cnn(size, n_layers, n_classes):\n",
    "#     # INPUTS\n",
    "#     # size     - size of the input images\n",
    "#     # n_layers - number of layers\n",
    "#     # OUTPUTS\n",
    "#     # model    - compiled CNN\n",
    "\n",
    "#     # Define model hyperparamters\n",
    "#     MIN_NEURONS = 20\n",
    "#     MAX_NEURONS = 120\n",
    "#     KERNEL = (3, 3)\n",
    "\n",
    "#     # Determine the # of neurons in each convolutional layer\n",
    "#     steps = np.floor(MAX_NEURONS / (n_layers + 1))\n",
    "#     nuerons = np.arange(MIN_NEURONS, MAX_NEURONS, steps)\n",
    "#     nuerons = nuerons.astype(np.int32)\n",
    "\n",
    "#     # Define a model\n",
    "#     model = Sequential()\n",
    "\n",
    "#     # Add convolutional layers\n",
    "#     for i in range(0, n_layers):\n",
    "#         if i == 0:\n",
    "#             shape = (size[0], size[1], size[2])\n",
    "#             model.add(Conv2D(nuerons[i], KERNEL, input_shape=shape))\n",
    "#         else:\n",
    "#             model.add(Conv2D(nuerons[i], KERNEL))\n",
    "\n",
    "#         model.add(Activation('relu'))\n",
    "\n",
    "#     # Add max pooling layer with dropout\n",
    "#     model.add(MaxPooling2D(pool_size=(2, 2)))\n",
    "#     model.add(Flatten())\n",
    "# #     model.add(Dense(MAX_NEURONS))\n",
    "# #     model.add(Activation('relu'))\n",
    "\n",
    "#     # Add output layer\n",
    "# #     model.add(Dense(1))\n",
    "# #     model.add(Activation('sigmoid'))\n",
    "#     model.add(Flatten())\n",
    "#     model.add(Dense(256, activation = \"relu\"))\n",
    "#     model.add(Dropout(0.5))\n",
    "#     model.add(Dense(n_classes, activation = \"softmax\"))\n",
    "\n",
    "#     # Compile the model\n",
    "# #     model.compile(loss='binary_crossentropy',\n",
    "# #                   optimizer='adam',\n",
    "# #                   metrics=['accuracy'])\n",
    "#     optimizer = RMSprop(lr=0.001, rho=0.9, epsilon=1e-08, decay=0.0)\n",
    "#     model.compile(optimizer = optimizer , \\\n",
    "#               loss = \"categorical_crossentropy\", \\\n",
    "#               metrics=[\"accuracy\"])\n",
    "\n",
    "#     # Print a summary of the model\n",
    "#     model.summary()\n",
    "\n",
    "#     return model"
   ]
  },
  {
   "cell_type": "code",
   "execution_count": 447,
   "metadata": {},
   "outputs": [],
   "source": [
    "# Instantiate the model\n",
    "image_size = x_train[0].shape\n",
    "n_classes = y_train.shape[1]\n",
    "# model = cnn(size=image_size, n_layers=N_LAYERS, n_classes=n_classes)"
   ]
  },
  {
   "cell_type": "code",
   "execution_count": 448,
   "metadata": {},
   "outputs": [],
   "source": [
    "learning_rate_reduction = ReduceLROnPlateau(monitor='val_acc', \n",
    "                                            patience=3, \n",
    "                                            verbose=1, \n",
    "                                            factor=0.5, \n",
    "                                            min_lr=0.00001)\n",
    "\n",
    "epochs = 30\n",
    "batch_size = 86\n",
    "\n",
    "img_rows, img_cols = IMG_SIZE\n",
    "\n",
    "nb_filters_1 = 32 \n",
    "nb_filters_2 = 64 \n",
    "nb_filters_3 = 128 \n",
    "\n",
    "nb_conv = 3 # kernel_size dim\n",
    "nb_classes = y_train.shape[1]"
   ]
  },
  {
   "cell_type": "code",
   "execution_count": 449,
   "metadata": {},
   "outputs": [
    {
     "name": "stdout",
     "output_type": "stream",
     "text": [
      "_________________________________________________________________\n",
      "Layer (type)                 Output Shape              Param #   \n",
      "=================================================================\n",
      "conv2d_43 (Conv2D)           (None, 100, 100, 32)      896       \n",
      "_________________________________________________________________\n",
      "conv2d_44 (Conv2D)           (None, 100, 100, 32)      9248      \n",
      "_________________________________________________________________\n",
      "max_pooling2d_13 (MaxPooling (None, 50, 50, 32)        0         \n",
      "_________________________________________________________________\n",
      "dropout_7 (Dropout)          (None, 50, 50, 32)        0         \n",
      "_________________________________________________________________\n",
      "conv2d_45 (Conv2D)           (None, 50, 50, 64)        18496     \n",
      "_________________________________________________________________\n",
      "conv2d_46 (Conv2D)           (None, 50, 50, 64)        36928     \n",
      "_________________________________________________________________\n",
      "max_pooling2d_14 (MaxPooling (None, 25, 25, 64)        0         \n",
      "_________________________________________________________________\n",
      "dropout_8 (Dropout)          (None, 25, 25, 64)        0         \n",
      "_________________________________________________________________\n",
      "flatten_14 (Flatten)         (None, 40000)             0         \n",
      "_________________________________________________________________\n",
      "dense_16 (Dense)             (None, 256)               10240256  \n",
      "_________________________________________________________________\n",
      "dropout_9 (Dropout)          (None, 256)               0         \n",
      "_________________________________________________________________\n",
      "dense_17 (Dense)             (None, 5)                 1285      \n",
      "=================================================================\n",
      "Total params: 10,307,109\n",
      "Trainable params: 10,307,109\n",
      "Non-trainable params: 0\n",
      "_________________________________________________________________\n"
     ]
    }
   ],
   "source": [
    "model1 = Sequential()\n",
    "model1.add(Conv2D(filters = nb_filters_1, \n",
    "                 kernel_size = (nb_conv,nb_conv),\n",
    "                 padding = 'Same', \n",
    "                 activation ='relu', \n",
    "                 input_shape = image_size))\n",
    "model1.add(Conv2D(filters = nb_filters_1, \n",
    "                 kernel_size = (nb_conv,nb_conv),\n",
    "                 padding = 'Same', \n",
    "                 activation ='relu'))\n",
    "model1.add(MaxPool2D(pool_size=(2,2)))\n",
    "model1.add(Dropout(0.25))\n",
    "model1.add(Conv2D(filters = nb_filters_2, \n",
    "                 kernel_size = (nb_conv,nb_conv),\n",
    "                 padding = 'Same', \n",
    "                 activation ='relu'))\n",
    "model1.add(Conv2D(filters = nb_filters_2, \n",
    "                 kernel_size = (nb_conv,nb_conv),\n",
    "                 padding = 'Same', \n",
    "                 activation ='relu'))\n",
    "model1.add(MaxPool2D(pool_size=(2,2), strides=(2,2)))\n",
    "model1.add(Dropout(0.25))\n",
    "\n",
    "model1.add(Flatten())\n",
    "model1.add(Dense(256, activation = \"relu\"))\n",
    "model1.add(Dropout(0.5))\n",
    "model1.add(Dense(nb_classes, activation = \"softmax\"))\n",
    "\n",
    "model1.summary()"
   ]
  },
  {
   "cell_type": "code",
   "execution_count": 450,
   "metadata": {},
   "outputs": [],
   "source": [
    "optimizer = RMSprop(lr=0.001, rho=0.9, epsilon=1e-08, decay=0.0)\n",
    "model1.compile(optimizer = optimizer , \\\n",
    "              loss = \"categorical_crossentropy\", \\\n",
    "              metrics=[\"accuracy\"])"
   ]
  },
  {
   "cell_type": "code",
   "execution_count": 451,
   "metadata": {},
   "outputs": [],
   "source": [
    "## MODEL TRAINING ##\n",
    "# Training Hyperparamters\n",
    "EPOCHS = 5\n",
    "BATCH_SIZE = 200\n",
    "\n",
    "# Early stopping callback\n",
    "PATIENCE = 10\n",
    "early_stopping = EarlyStopping(monitor='loss', min_delta=0, patience=PATIENCE, verbose=0, mode='auto')\n",
    "\n",
    "# TensorBoard callback\n",
    "LOG_DIRECTORY_ROOT = 'logdir'\n",
    "now = datetime.utcnow().strftime(\"%Y%m%d%H%M%S\")\n",
    "log_dir = \"{}/run-{}/\".format(LOG_DIRECTORY_ROOT, now)\n",
    "tensorboard = TensorBoard(log_dir=log_dir, write_graph=True, write_images=True)\n",
    "\n",
    "# Place the callbacks in a list\n",
    "callbacks = [early_stopping, tensorboard]"
   ]
  },
  {
   "cell_type": "code",
   "execution_count": 452,
   "metadata": {},
   "outputs": [
    {
     "name": "stdout",
     "output_type": "stream",
     "text": [
      "Epoch 1/5\n",
      " - 59s - loss: 2.5611 - acc: 0.2114\n",
      "Epoch 2/5\n",
      " - 58s - loss: 2.3321 - acc: 0.2215\n",
      "Epoch 3/5\n",
      " - 58s - loss: 1.9752 - acc: 0.2215\n",
      "Epoch 4/5\n",
      " - 59s - loss: 1.6849 - acc: 0.2186\n",
      "Epoch 5/5\n",
      " - 58s - loss: 1.6120 - acc: 0.2182\n"
     ]
    },
    {
     "data": {
      "text/plain": [
       "<keras.callbacks.History at 0x7fa2450f1e10>"
      ]
     },
     "execution_count": 452,
     "metadata": {},
     "output_type": "execute_result"
    }
   ],
   "source": [
    "# Train the model\n",
    "model1.fit(x_train, y_train, epochs=EPOCHS, batch_size=BATCH_SIZE,\\\n",
    "          callbacks=callbacks, verbose=2)"
   ]
  },
  {
   "cell_type": "code",
   "execution_count": 526,
   "metadata": {},
   "outputs": [],
   "source": [
    "# Save Model\n",
    "\n",
    "MODEL_DIRECTORY_ROOT = 'modeldir'\n",
    "model_dir = \"{}/run-{}/\".format(MODEL_DIRECTORY_ROOT, now)\n",
    "\n",
    "if not os.path.exists(model_dir):\n",
    "    os.makedirs(model_dir)\n",
    " \n",
    "save_model(model1, model_dir+'model.h5', overwrite=True,include_optimizer=True)"
   ]
  },
  {
   "cell_type": "code",
   "execution_count": 527,
   "metadata": {},
   "outputs": [],
   "source": [
    "## MODEL EVALUATION ##\n",
    "# Make a prediction on the test set\n",
    "test_predictions = model1.predict(x_test)\n",
    "test_predictions = np.round(test_predictions)"
   ]
  },
  {
   "cell_type": "code",
   "execution_count": 528,
   "metadata": {},
   "outputs": [
    {
     "name": "stdout",
     "output_type": "stream",
     "text": [
      "(595, 100, 100, 3)\n",
      "(595, 5)\n",
      "DescribeResult(nobs=595, minmax=(array([0., 0., 0., 0., 0.], dtype=float32), array([0., 0., 0., 0., 0.], dtype=float32)), mean=array([0., 0., 0., 0., 0.], dtype=float32), variance=array([0., 0., 0., 0., 0.], dtype=float32), skewness=array([0., 0., 0., 0., 0.], dtype=float32), kurtosis=array([-3., -3., -3., -3., -3.], dtype=float32))\n"
     ]
    }
   ],
   "source": [
    "print x_test.shape\n",
    "print test_predictions.shape\n",
    "print stats.describe(test_predictions)"
   ]
  },
  {
   "cell_type": "code",
   "execution_count": 530,
   "metadata": {},
   "outputs": [
    {
     "data": {
      "text/plain": [
       "array([0., 0., 0., 0., 0.], dtype=float32)"
      ]
     },
     "execution_count": 530,
     "metadata": {},
     "output_type": "execute_result"
    }
   ],
   "source": [
    "test_predictions[200]"
   ]
  },
  {
   "cell_type": "code",
   "execution_count": 531,
   "metadata": {},
   "outputs": [
    {
     "name": "stdout",
     "output_type": "stream",
     "text": [
      "Accuracy: 0.0\n"
     ]
    }
   ],
   "source": [
    "# Report the accuracy\n",
    "accuracy = accuracy_score(y_test, test_predictions)\n",
    "print(\"Accuracy: \" + str(accuracy))"
   ]
  },
  {
   "cell_type": "code",
   "execution_count": 532,
   "metadata": {},
   "outputs": [
    {
     "name": "stderr",
     "output_type": "stream",
     "text": [
      "/usr/local/lib/python2.7/dist-packages/ipykernel_launcher.py:8: DeprecationWarning: elementwise != comparison failed; this will raise an error in the future.\n",
      "  \n"
     ]
    },
    {
     "ename": "TypeError",
     "evalue": "Invalid dimensions for image data",
     "output_type": "error",
     "traceback": [
      "\u001b[0;31m---------------------------------------------------------------------------\u001b[0m",
      "\u001b[0;31mTypeError\u001b[0m                                 Traceback (most recent call last)",
      "\u001b[0;32m<ipython-input-532-c995a3c459d9>\u001b[0m in \u001b[0;36m<module>\u001b[0;34m()\u001b[0m\n\u001b[1;32m     22\u001b[0m     \u001b[0mplt\u001b[0m\u001b[0;34m.\u001b[0m\u001b[0mshow\u001b[0m\u001b[0;34m(\u001b[0m\u001b[0;34m)\u001b[0m\u001b[0;34m\u001b[0m\u001b[0m\n\u001b[1;32m     23\u001b[0m \u001b[0;34m\u001b[0m\u001b[0m\n\u001b[0;32m---> 24\u001b[0;31m \u001b[0mvisualize_incorrect_labels\u001b[0m\u001b[0;34m(\u001b[0m\u001b[0mx_test\u001b[0m\u001b[0;34m,\u001b[0m \u001b[0my_test\u001b[0m\u001b[0;34m,\u001b[0m \u001b[0mnp\u001b[0m\u001b[0;34m.\u001b[0m\u001b[0masarray\u001b[0m\u001b[0;34m(\u001b[0m\u001b[0mtest_predictions\u001b[0m\u001b[0;34m)\u001b[0m\u001b[0;34m.\u001b[0m\u001b[0mravel\u001b[0m\u001b[0;34m(\u001b[0m\u001b[0;34m)\u001b[0m\u001b[0;34m)\u001b[0m\u001b[0;34m\u001b[0m\u001b[0m\n\u001b[0m",
      "\u001b[0;32m<ipython-input-532-c995a3c459d9>\u001b[0m in \u001b[0;36mvisualize_incorrect_labels\u001b[0;34m(x_data, y_real, y_predicted)\u001b[0m\n\u001b[1;32m     16\u001b[0m         \u001b[0mcount\u001b[0m \u001b[0;34m+=\u001b[0m \u001b[0;36m1\u001b[0m\u001b[0;34m\u001b[0m\u001b[0m\n\u001b[1;32m     17\u001b[0m         \u001b[0mfigure\u001b[0m\u001b[0;34m.\u001b[0m\u001b[0madd_subplot\u001b[0m\u001b[0;34m(\u001b[0m\u001b[0mmaximum_square\u001b[0m\u001b[0;34m,\u001b[0m \u001b[0mmaximum_square\u001b[0m\u001b[0;34m,\u001b[0m \u001b[0mcount\u001b[0m\u001b[0;34m)\u001b[0m\u001b[0;34m\u001b[0m\u001b[0m\n\u001b[0;32m---> 18\u001b[0;31m         \u001b[0mplt\u001b[0m\u001b[0;34m.\u001b[0m\u001b[0mimshow\u001b[0m\u001b[0;34m(\u001b[0m\u001b[0mx_data\u001b[0m\u001b[0;34m[\u001b[0m\u001b[0mi\u001b[0m\u001b[0;34m,\u001b[0m \u001b[0;34m:\u001b[0m\u001b[0;34m,\u001b[0m \u001b[0;34m:\u001b[0m\u001b[0;34m,\u001b[0m \u001b[0;34m:\u001b[0m\u001b[0;34m]\u001b[0m\u001b[0;34m)\u001b[0m\u001b[0;34m\u001b[0m\u001b[0m\n\u001b[0m\u001b[1;32m     19\u001b[0m         \u001b[0mplt\u001b[0m\u001b[0;34m.\u001b[0m\u001b[0maxis\u001b[0m\u001b[0;34m(\u001b[0m\u001b[0;34m'off'\u001b[0m\u001b[0;34m)\u001b[0m\u001b[0;34m\u001b[0m\u001b[0m\n\u001b[1;32m     20\u001b[0m         \u001b[0mplt\u001b[0m\u001b[0;34m.\u001b[0m\u001b[0mtitle\u001b[0m\u001b[0;34m(\u001b[0m\u001b[0;34m\"Predicted: \"\u001b[0m \u001b[0;34m+\u001b[0m \u001b[0mstr\u001b[0m\u001b[0;34m(\u001b[0m\u001b[0mint\u001b[0m\u001b[0;34m(\u001b[0m\u001b[0my_predicted\u001b[0m\u001b[0;34m[\u001b[0m\u001b[0mi\u001b[0m\u001b[0;34m]\u001b[0m\u001b[0;34m)\u001b[0m\u001b[0;34m)\u001b[0m \u001b[0;34m+\u001b[0m \u001b[0;34m\", Real: \"\u001b[0m \u001b[0;34m+\u001b[0m \u001b[0mstr\u001b[0m\u001b[0;34m(\u001b[0m\u001b[0mint\u001b[0m\u001b[0;34m(\u001b[0m\u001b[0my_real\u001b[0m\u001b[0;34m[\u001b[0m\u001b[0mi\u001b[0m\u001b[0;34m]\u001b[0m\u001b[0;34m)\u001b[0m\u001b[0;34m)\u001b[0m\u001b[0;34m,\u001b[0m \u001b[0mfontsize\u001b[0m\u001b[0;34m=\u001b[0m\u001b[0;36m10\u001b[0m\u001b[0;34m)\u001b[0m\u001b[0;34m\u001b[0m\u001b[0m\n",
      "\u001b[0;32m/usr/local/lib/python2.7/dist-packages/matplotlib/pyplot.pyc\u001b[0m in \u001b[0;36mimshow\u001b[0;34m(X, cmap, norm, aspect, interpolation, alpha, vmin, vmax, origin, extent, shape, filternorm, filterrad, imlim, resample, url, hold, data, **kwargs)\u001b[0m\n\u001b[1;32m   3203\u001b[0m                         \u001b[0mfilternorm\u001b[0m\u001b[0;34m=\u001b[0m\u001b[0mfilternorm\u001b[0m\u001b[0;34m,\u001b[0m \u001b[0mfilterrad\u001b[0m\u001b[0;34m=\u001b[0m\u001b[0mfilterrad\u001b[0m\u001b[0;34m,\u001b[0m\u001b[0;34m\u001b[0m\u001b[0m\n\u001b[1;32m   3204\u001b[0m                         \u001b[0mimlim\u001b[0m\u001b[0;34m=\u001b[0m\u001b[0mimlim\u001b[0m\u001b[0;34m,\u001b[0m \u001b[0mresample\u001b[0m\u001b[0;34m=\u001b[0m\u001b[0mresample\u001b[0m\u001b[0;34m,\u001b[0m \u001b[0murl\u001b[0m\u001b[0;34m=\u001b[0m\u001b[0murl\u001b[0m\u001b[0;34m,\u001b[0m \u001b[0mdata\u001b[0m\u001b[0;34m=\u001b[0m\u001b[0mdata\u001b[0m\u001b[0;34m,\u001b[0m\u001b[0;34m\u001b[0m\u001b[0m\n\u001b[0;32m-> 3205\u001b[0;31m                         **kwargs)\n\u001b[0m\u001b[1;32m   3206\u001b[0m     \u001b[0;32mfinally\u001b[0m\u001b[0;34m:\u001b[0m\u001b[0;34m\u001b[0m\u001b[0m\n\u001b[1;32m   3207\u001b[0m         \u001b[0max\u001b[0m\u001b[0;34m.\u001b[0m\u001b[0m_hold\u001b[0m \u001b[0;34m=\u001b[0m \u001b[0mwashold\u001b[0m\u001b[0;34m\u001b[0m\u001b[0m\n",
      "\u001b[0;32m/usr/local/lib/python2.7/dist-packages/matplotlib/__init__.pyc\u001b[0m in \u001b[0;36minner\u001b[0;34m(ax, *args, **kwargs)\u001b[0m\n\u001b[1;32m   1853\u001b[0m                         \u001b[0;34m\"the Matplotlib list!)\"\u001b[0m \u001b[0;34m%\u001b[0m \u001b[0;34m(\u001b[0m\u001b[0mlabel_namer\u001b[0m\u001b[0;34m,\u001b[0m \u001b[0mfunc\u001b[0m\u001b[0;34m.\u001b[0m\u001b[0m__name__\u001b[0m\u001b[0;34m)\u001b[0m\u001b[0;34m,\u001b[0m\u001b[0;34m\u001b[0m\u001b[0m\n\u001b[1;32m   1854\u001b[0m                         RuntimeWarning, stacklevel=2)\n\u001b[0;32m-> 1855\u001b[0;31m             \u001b[0;32mreturn\u001b[0m \u001b[0mfunc\u001b[0m\u001b[0;34m(\u001b[0m\u001b[0max\u001b[0m\u001b[0;34m,\u001b[0m \u001b[0;34m*\u001b[0m\u001b[0margs\u001b[0m\u001b[0;34m,\u001b[0m \u001b[0;34m**\u001b[0m\u001b[0mkwargs\u001b[0m\u001b[0;34m)\u001b[0m\u001b[0;34m\u001b[0m\u001b[0m\n\u001b[0m\u001b[1;32m   1856\u001b[0m \u001b[0;34m\u001b[0m\u001b[0m\n\u001b[1;32m   1857\u001b[0m         inner.__doc__ = _add_data_doc(inner.__doc__,\n",
      "\u001b[0;32m/usr/local/lib/python2.7/dist-packages/matplotlib/axes/_axes.pyc\u001b[0m in \u001b[0;36mimshow\u001b[0;34m(self, X, cmap, norm, aspect, interpolation, alpha, vmin, vmax, origin, extent, shape, filternorm, filterrad, imlim, resample, url, **kwargs)\u001b[0m\n\u001b[1;32m   5485\u001b[0m                               resample=resample, **kwargs)\n\u001b[1;32m   5486\u001b[0m \u001b[0;34m\u001b[0m\u001b[0m\n\u001b[0;32m-> 5487\u001b[0;31m         \u001b[0mim\u001b[0m\u001b[0;34m.\u001b[0m\u001b[0mset_data\u001b[0m\u001b[0;34m(\u001b[0m\u001b[0mX\u001b[0m\u001b[0;34m)\u001b[0m\u001b[0;34m\u001b[0m\u001b[0m\n\u001b[0m\u001b[1;32m   5488\u001b[0m         \u001b[0mim\u001b[0m\u001b[0;34m.\u001b[0m\u001b[0mset_alpha\u001b[0m\u001b[0;34m(\u001b[0m\u001b[0malpha\u001b[0m\u001b[0;34m)\u001b[0m\u001b[0;34m\u001b[0m\u001b[0m\n\u001b[1;32m   5489\u001b[0m         \u001b[0;32mif\u001b[0m \u001b[0mim\u001b[0m\u001b[0;34m.\u001b[0m\u001b[0mget_clip_path\u001b[0m\u001b[0;34m(\u001b[0m\u001b[0;34m)\u001b[0m \u001b[0;32mis\u001b[0m \u001b[0mNone\u001b[0m\u001b[0;34m:\u001b[0m\u001b[0;34m\u001b[0m\u001b[0m\n",
      "\u001b[0;32m/usr/local/lib/python2.7/dist-packages/matplotlib/image.pyc\u001b[0m in \u001b[0;36mset_data\u001b[0;34m(self, A)\u001b[0m\n\u001b[1;32m    651\u001b[0m         if not (self._A.ndim == 2\n\u001b[1;32m    652\u001b[0m                 or self._A.ndim == 3 and self._A.shape[-1] in [3, 4]):\n\u001b[0;32m--> 653\u001b[0;31m             \u001b[0;32mraise\u001b[0m \u001b[0mTypeError\u001b[0m\u001b[0;34m(\u001b[0m\u001b[0;34m\"Invalid dimensions for image data\"\u001b[0m\u001b[0;34m)\u001b[0m\u001b[0;34m\u001b[0m\u001b[0m\n\u001b[0m\u001b[1;32m    654\u001b[0m \u001b[0;34m\u001b[0m\u001b[0m\n\u001b[1;32m    655\u001b[0m         \u001b[0;32mif\u001b[0m \u001b[0mself\u001b[0m\u001b[0;34m.\u001b[0m\u001b[0m_A\u001b[0m\u001b[0;34m.\u001b[0m\u001b[0mndim\u001b[0m \u001b[0;34m==\u001b[0m \u001b[0;36m3\u001b[0m\u001b[0;34m:\u001b[0m\u001b[0;34m\u001b[0m\u001b[0m\n",
      "\u001b[0;31mTypeError\u001b[0m: Invalid dimensions for image data"
     ]
    },
    {
     "data": {
      "image/png": "[encoded data removed]",
      "text/plain": [
       "<Figure size 432x288 with 1 Axes>"
      ]
     },
     "metadata": {},
     "output_type": "display_data"
    }
   ],
   "source": [
    "def visualize_incorrect_labels(x_data, y_real, y_predicted):\n",
    "    # INPUTS\n",
    "    # x_data      - images\n",
    "    # y_data      - ground truth labels\n",
    "    # y_predicted - predicted label\n",
    "    count = 0\n",
    "    figure = plt.figure()\n",
    "    incorrect_label_indices = (y_real != y_predicted)\n",
    "    y_real = y_real[incorrect_label_indices]\n",
    "    y_predicted = y_predicted[incorrect_label_indices]\n",
    "    x_data = x_data[incorrect_label_indices, :, :, :]\n",
    "\n",
    "    maximum_square = np.ceil(np.sqrt(x_data.shape[0]))\n",
    "\n",
    "    for i in range(x_data.shape[0]):\n",
    "        count += 1\n",
    "        figure.add_subplot(maximum_square, maximum_square, count)\n",
    "        plt.imshow(x_data[i, :, :, :])\n",
    "        plt.axis('off')\n",
    "        plt.title(\"Predicted: \" + str(int(y_predicted[i])) + \", Real: \" + str(int(y_real[i])), fontsize=10)\n",
    "\n",
    "    plt.show()\n",
    "\n",
    "visualize_incorrect_labels(x_test, y_test, np.asarray(test_predictions).ravel())"
   ]
  },
  {
   "cell_type": "code",
   "execution_count": null,
   "metadata": {},
   "outputs": [],
   "source": []
  }
 ],
 "metadata": {
  "kernelspec": {
   "display_name": "Python 2",
   "language": "python",
   "name": "python2"
  },
  "language_info": {
   "codemirror_mode": {
    "name": "ipython",
    "version": 2
   },
   "file_extension": ".py",
   "mimetype": "text/x-python",
   "name": "python",
   "nbconvert_exporter": "python",
   "pygments_lexer": "ipython2",
   "version": "2.7.12"
  }
 },
 "nbformat": 4,
 "nbformat_minor": 2
}
